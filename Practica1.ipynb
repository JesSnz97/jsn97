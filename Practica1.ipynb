{
 "cells": [
  {
   "cell_type": "code",
   "execution_count": null,
   "metadata": {},
   "outputs": [],
   "source": [
    "Not Found\n",
    "404\n",
    "NotFoundError: Not Found\n",
    "    at /home/practicas/practica_01/app.js:27:8\n",
    "    at Layer.handle [as handle_request] (/home/practicas/practica_01/node_modules/express/lib/router/layer.js:95:5)\n",
    "    at trim_prefix (/home/practicas/practica_01/node_modules/express/lib/router/index.js:317:13)\n",
    "    at /home/practicas/practica_01/node_modules/express/lib/router/index.js:284:7\n",
    "    at Function.process_params (/home/practicas/practica_01/node_modules/express/lib/router/index.js:335:12)\n",
    "    at next (/home/practicas/practica_01/node_modules/express/lib/router/index.js:275:10)\n",
    "    at /home/practicas/practica_01/node_modules/express/lib/router/index.js:635:15\n",
    "    at next (/home/practicas/practica_01/node_modules/express/lib/router/index.js:260:14)\n",
    "    at Function.handle (/home/practicas/practica_01/node_modules/express/lib/router/index.js:174:3)\n",
    "    at router (/home/practicas/practica_01/node_modules/express/lib/router/index.js:47:12)\n",
    "    at Layer.handle [as handle_request] (/home/practicas/practica_01/node_modules/express/lib/router/layer.js:95:5)\n",
    "    at trim_prefix (/home/practicas/practica_01/node_modules/express/lib/router/index.js:317:13)\n",
    "    at /home/practicas/practica_01/node_modules/express/lib/router/index.js:284:7\n",
    "    at Function.process_params (/home/practicas/practica_01/node_modules/express/lib/router/index.js:335:12)\n",
    "    at next (/home/practicas/practica_01/node_modules/express/lib/router/index.js:275:10)\n",
    "    at SendStream.error (/home/practicas/practica_01/node_modules/serve-static/index.js:121:7)\n",
    "    \n",
    "    \n",
    "    \n",
    "> practica-01@0.0.0 start /home/practicas/practica_01\n",
    "> node ./bin/www\n",
    "\n",
    "GET / 404 391.131 ms - 1681\n",
    "GET /stylesheets/style.css 200 4.385 ms - 111\n",
    "GET /favicon.ico 404 14.891 ms - 1681\n",
    "GET / 404 13.234 ms - 1681\n",
    "GET /stylesheets/style.css 304 1.348 ms - -"
   ]
  }
 ],
 "metadata": {
  "kernelspec": {
   "display_name": "Python 3",
   "language": "python",
   "name": "python3"
  },
  "language_info": {
   "codemirror_mode": {
    "name": "ipython",
    "version": 3
   },
   "file_extension": ".py",
   "mimetype": "text/x-python",
   "name": "python",
   "nbconvert_exporter": "python",
   "pygments_lexer": "ipython3",
   "version": "3.7.3"
  }
 },
 "nbformat": 4,
 "nbformat_minor": 4
}
